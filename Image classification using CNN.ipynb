{
  "nbformat": 4,
  "nbformat_minor": 0,
  "metadata": {
    "colab": {
      "name": "Copy of ANN Assgnt .ipynb",
      "provenance": [],
      "collapsed_sections": [],
      "authorship_tag": "ABX9TyMKnlDfNU5GrWY1gn3aenII",
      "include_colab_link": true
    },
    "kernelspec": {
      "name": "python3",
      "display_name": "Python 3"
    }
  },
  "cells": [
    {
      "cell_type": "markdown",
      "metadata": {
        "id": "view-in-github",
        "colab_type": "text"
      },
      "source": [
        "<a href=\"https://colab.research.google.com/github/Christy-1999/Silver-Eureka/blob/master/Image%20classification%20using%20CNN.ipynb\" target=\"_parent\"><img src=\"https://colab.research.google.com/assets/colab-badge.svg\" alt=\"Open In Colab\"/></a>"
      ]
    },
    {
      "cell_type": "code",
      "metadata": {
        "id": "G4Rnpi2Blr_n"
      },
      "source": [
        "import numpy as np\n",
        "import tensorflow as tf\n",
        "import keras\n",
        "import matplotlib.pyplot as plt\n",
        "from keras.datasets import cifar10"
      ],
      "execution_count": null,
      "outputs": []
    },
    {
      "cell_type": "code",
      "metadata": {
        "id": "GvbMaazgl1WT"
      },
      "source": [
        "(X_train, y_train), (X_test,y_test) = cifar10.load_data()"
      ],
      "execution_count": null,
      "outputs": []
    },
    {
      "cell_type": "code",
      "metadata": {
        "colab": {
          "base_uri": "https://localhost:8080/"
        },
        "id": "3MF8EM3tl-Wb",
        "outputId": "799a70c8-c028-41de-f91d-3a4c35135185"
      },
      "source": [
        "print('Number of training images:',X_train.shape)\n",
        "print('Number of testing images: ',X_test.shape)"
      ],
      "execution_count": null,
      "outputs": [
        {
          "output_type": "stream",
          "text": [
            "Number of training images: (50000, 32, 32, 3)\n",
            "Number of testing images:  (10000, 32, 32, 3)\n"
          ],
          "name": "stdout"
        }
      ]
    },
    {
      "cell_type": "code",
      "metadata": {
        "colab": {
          "base_uri": "https://localhost:8080/"
        },
        "id": "QiNHoraGqJLg",
        "outputId": "28fe3a7d-b2fb-4740-afcc-8f4dfd0e7057"
      },
      "source": [
        "X_train.shape"
      ],
      "execution_count": null,
      "outputs": [
        {
          "output_type": "execute_result",
          "data": {
            "text/plain": [
              "(50000, 32, 32, 3)"
            ]
          },
          "metadata": {
            "tags": []
          },
          "execution_count": 352
        }
      ]
    },
    {
      "cell_type": "code",
      "metadata": {
        "colab": {
          "base_uri": "https://localhost:8080/"
        },
        "id": "hJsSMaEAqiKU",
        "outputId": "fa7104a7-41f7-496b-ca99-ed756a62b8cf"
      },
      "source": [
        "X_test.shape"
      ],
      "execution_count": null,
      "outputs": [
        {
          "output_type": "execute_result",
          "data": {
            "text/plain": [
              "(10000, 32, 32, 3)"
            ]
          },
          "metadata": {
            "tags": []
          },
          "execution_count": 353
        }
      ]
    },
    {
      "cell_type": "code",
      "metadata": {
        "colab": {
          "base_uri": "https://localhost:8080/"
        },
        "id": "EsOTV6apq9O0",
        "outputId": "ad61aa95-2a87-42ad-fe4a-576717ba2c6f"
      },
      "source": [
        "y_train.shape"
      ],
      "execution_count": null,
      "outputs": [
        {
          "output_type": "execute_result",
          "data": {
            "text/plain": [
              "(50000, 1)"
            ]
          },
          "metadata": {
            "tags": []
          },
          "execution_count": 354
        }
      ]
    },
    {
      "cell_type": "code",
      "metadata": {
        "colab": {
          "base_uri": "https://localhost:8080/"
        },
        "id": "tzp5d1b4rEhw",
        "outputId": "d0cfc615-5769-447f-a488-d8d85983e9bf"
      },
      "source": [
        "y_train[:5]"
      ],
      "execution_count": null,
      "outputs": [
        {
          "output_type": "execute_result",
          "data": {
            "text/plain": [
              "array([[6],\n",
              "       [9],\n",
              "       [9],\n",
              "       [4],\n",
              "       [1]], dtype=uint8)"
            ]
          },
          "metadata": {
            "tags": []
          },
          "execution_count": 355
        }
      ]
    },
    {
      "cell_type": "code",
      "metadata": {
        "colab": {
          "base_uri": "https://localhost:8080/"
        },
        "id": "R7s7SK5jrOfc",
        "outputId": "bfaaa06d-f0a1-4fef-f720-fd427e3bea1a"
      },
      "source": [
        "y_train = y_train.reshape(-1,)\n",
        "y_train[:5]"
      ],
      "execution_count": null,
      "outputs": [
        {
          "output_type": "execute_result",
          "data": {
            "text/plain": [
              "array([6, 9, 9, 4, 1], dtype=uint8)"
            ]
          },
          "metadata": {
            "tags": []
          },
          "execution_count": 356
        }
      ]
    },
    {
      "cell_type": "code",
      "metadata": {
        "id": "U9BlbMENrdm8"
      },
      "source": [
        "y_test = y_test.reshape(-1,)"
      ],
      "execution_count": null,
      "outputs": []
    },
    {
      "cell_type": "code",
      "metadata": {
        "id": "jumrcV7grnc5"
      },
      "source": [
        "classes = [\"airplane\",\"automobile\",\"bird\",\"cat\",\"deer\",\"dog\",\"frog\",\"horse\",\"ship\",\"truck\"]"
      ],
      "execution_count": null,
      "outputs": []
    },
    {
      "cell_type": "code",
      "metadata": {
        "id": "PZm3Ac5Kr7S1"
      },
      "source": [
        "def plot_sample(X, y, index):\n",
        "    plt.figure(figsize = (15,2))\n",
        "    plt.imshow(X[index])\n",
        "    plt.xlabel(classes[y[index]])"
      ],
      "execution_count": null,
      "outputs": []
    },
    {
      "cell_type": "code",
      "metadata": {
        "colab": {
          "base_uri": "https://localhost:8080/",
          "height": 167
        },
        "id": "8JDS7TH7sCMd",
        "outputId": "7d788367-db64-42e4-a351-6b0a1d91970d"
      },
      "source": [
        "plot_sample(X_train, y_train, 8)"
      ],
      "execution_count": null,
      "outputs": [
        {
          "output_type": "error",
          "ename": "NameError",
          "evalue": "ignored",
          "traceback": [
            "\u001b[0;31m---------------------------------------------------------------------------\u001b[0m",
            "\u001b[0;31mNameError\u001b[0m                                 Traceback (most recent call last)",
            "\u001b[0;32m<ipython-input-1-76cfdd47456d>\u001b[0m in \u001b[0;36m<module>\u001b[0;34m()\u001b[0m\n\u001b[0;32m----> 1\u001b[0;31m \u001b[0mplot_sample\u001b[0m\u001b[0;34m(\u001b[0m\u001b[0mX_train\u001b[0m\u001b[0;34m,\u001b[0m \u001b[0my_train\u001b[0m\u001b[0;34m,\u001b[0m \u001b[0;36m8\u001b[0m\u001b[0;34m)\u001b[0m\u001b[0;34m\u001b[0m\u001b[0;34m\u001b[0m\u001b[0m\n\u001b[0m",
            "\u001b[0;31mNameError\u001b[0m: name 'plot_sample' is not defined"
          ]
        }
      ]
    },
    {
      "cell_type": "code",
      "metadata": {
        "colab": {
          "base_uri": "https://localhost:8080/",
          "height": 173
        },
        "id": "DlW2JHJwsOXC",
        "outputId": "4e274726-2a0c-4813-990f-86e9dbfdc446"
      },
      "source": [
        "plot_sample(X_train, y_train, 1)"
      ],
      "execution_count": null,
      "outputs": [
        {
          "output_type": "display_data",
          "data": {
            "image/png": "[encoded data removed]",
            "text/plain": [
              "<Figure size 1080x144 with 1 Axes>"
            ]
          },
          "metadata": {
            "tags": [],
            "needs_background": "light"
          }
        }
      ]
    },
    {
      "cell_type": "code",
      "metadata": {
        "id": "osQhCxeisXzc"
      },
      "source": [
        "X_train_scaled = X_train / 255.0\n",
        "X_test_scaled = X_test / 255.0"
      ],
      "execution_count": null,
      "outputs": []
    },
    {
      "cell_type": "code",
      "metadata": {
        "id": "wfNp8TDmzITP"
      },
      "source": [
        "y_train_categorical = keras.utils.to_categorical(\n",
        "    y_train, num_classes=10, dtype='float32'\n",
        ")\n",
        "y_test_categorical = keras.utils.to_categorical(\n",
        "    y_test, num_classes=10, dtype='float32'\n",
        ")"
      ],
      "execution_count": null,
      "outputs": []
    },
    {
      "cell_type": "code",
      "metadata": {
        "colab": {
          "base_uri": "https://localhost:8080/"
        },
        "id": "9m2kGVe-zNyN",
        "outputId": "a6965742-b03d-44ca-d741-0439ade28bc5"
      },
      "source": [
        "y_train[0:5]"
      ],
      "execution_count": null,
      "outputs": [
        {
          "output_type": "execute_result",
          "data": {
            "text/plain": [
              "array([6, 9, 9, 4, 1], dtype=uint8)"
            ]
          },
          "metadata": {
            "tags": []
          },
          "execution_count": 364
        }
      ]
    },
    {
      "cell_type": "code",
      "metadata": {
        "colab": {
          "base_uri": "https://localhost:8080/"
        },
        "id": "5AEkbwNmzXZx",
        "outputId": "801780ca-cb73-445e-ce23-8f82e9ba6629"
      },
      "source": [
        "y_train_categorical[0:5]"
      ],
      "execution_count": null,
      "outputs": [
        {
          "output_type": "execute_result",
          "data": {
            "text/plain": [
              "array([[0., 0., 0., 0., 0., 0., 1., 0., 0., 0.],\n",
              "       [0., 0., 0., 0., 0., 0., 0., 0., 0., 1.],\n",
              "       [0., 0., 0., 0., 0., 0., 0., 0., 0., 1.],\n",
              "       [0., 0., 0., 0., 1., 0., 0., 0., 0., 0.],\n",
              "       [0., 1., 0., 0., 0., 0., 0., 0., 0., 0.]], dtype=float32)"
            ]
          },
          "metadata": {
            "tags": []
          },
          "execution_count": 365
        }
      ]
    },
    {
      "cell_type": "code",
      "metadata": {
        "id": "FYGEofva1qpg"
      },
      "source": [
        ""
      ],
      "execution_count": null,
      "outputs": []
    },
    {
      "cell_type": "code",
      "metadata": {
        "colab": {
          "base_uri": "https://localhost:8080/"
        },
        "id": "MWRUkj-wzdee",
        "outputId": "93c7f3fd-a236-4e96-c4dd-f273bcbf5de2"
      },
      "source": [
        "ann = keras.Sequential([\n",
        "        keras.layers.Flatten(input_shape=(32,32,3)),\n",
        "        keras.layers.Dense(3000, activation='relu'),\n",
        "        keras.layers.Dense(1000, activation='relu'),\n",
        "        keras.layers.Dense(10, activation='sigmoid')    \n",
        "    ])\n",
        "\n",
        "ann.compile(optimizer='SGD',\n",
        "              loss='categorical_crossentropy',\n",
        "              metrics=['accuracy'])\n",
        "ann.fit(X_train_scaled, y_train_categorical, epochs=5)"
      ],
      "execution_count": null,
      "outputs": [
        {
          "output_type": "stream",
          "text": [
            "Epoch 1/5\n",
            "1563/1563 [==============================] - 99s 63ms/step - loss: 1.9333 - accuracy: 0.3052\n",
            "Epoch 2/5\n",
            "1563/1563 [==============================] - 98s 63ms/step - loss: 1.6489 - accuracy: 0.4153\n",
            "Epoch 3/5\n",
            "1563/1563 [==============================] - 102s 65ms/step - loss: 1.5486 - accuracy: 0.4519\n",
            "Epoch 4/5\n",
            "1563/1563 [==============================] - 101s 65ms/step - loss: 1.4827 - accuracy: 0.4781\n",
            "Epoch 5/5\n",
            "1563/1563 [==============================] - 101s 65ms/step - loss: 1.4351 - accuracy: 0.4904\n"
          ],
          "name": "stdout"
        },
        {
          "output_type": "execute_result",
          "data": {
            "text/plain": [
              "<tensorflow.python.keras.callbacks.History at 0x7fdb2a028668>"
            ]
          },
          "metadata": {
            "tags": []
          },
          "execution_count": 367
        }
      ]
    },
    {
      "cell_type": "code",
      "metadata": {
        "colab": {
          "base_uri": "https://localhost:8080/"
        },
        "id": "PfqzGHxb5ZyK",
        "outputId": "3ba004ca-2b3a-4156-8bc1-c2dfc4984a9e"
      },
      "source": [
        "from sklearn.metrics import confusion_matrix , classification_report\n",
        "import numpy as np\n",
        "y_pred = ann.predict(X_test_scaled\n",
        "y_pred_classes = [np.argmax(element) for element in y_pred]\n",
        "\n",
        "print(\"Classification Report: \\n\", classification_report(y_test, y_pred_classes))"
      ],
      "execution_count": null,
      "outputs": [
        {
          "output_type": "stream",
          "text": [
            "Classification Report: \n",
            "               precision    recall  f1-score   support\n",
            "\n",
            "           0       0.59      0.47      0.52      1000\n",
            "           1       0.62      0.63      0.62      1000\n",
            "           2       0.41      0.21      0.28      1000\n",
            "           3       0.40      0.14      0.20      1000\n",
            "           4       0.31      0.47      0.38      1000\n",
            "           5       0.45      0.31      0.37      1000\n",
            "           6       0.31      0.83      0.45      1000\n",
            "           7       0.75      0.26      0.39      1000\n",
            "           8       0.52      0.72      0.60      1000\n",
            "           9       0.65      0.45      0.53      1000\n",
            "\n",
            "    accuracy                           0.45     10000\n",
            "   macro avg       0.50      0.45      0.43     10000\n",
            "weighted avg       0.50      0.45      0.43     10000\n",
            "\n"
          ],
          "name": "stdout"
        }
      ]
    },
    {
      "cell_type": "code",
      "metadata": {
        "colab": {
          "base_uri": "https://localhost:8080/"
        },
        "id": "-daM6GnR9Y4r",
        "outputId": "cda029dc-de47-47dc-c908-ea4f5cd203ca"
      },
      "source": [
        "cnn = keras.Sequential([  \n",
        "        keras.layers.Conv2D(filters=32, kernel_size=(3, 3), activation='relu', input_shape=(32, 32, 3)),\n",
        "    keras.layers.MaxPooling2D((2, 2)),\n",
        "    \n",
        "    keras.layers.Conv2D(filters=64, kernel_size=(3, 3), activation='relu'),\n",
        "    keras.layers.MaxPooling2D((2, 2)),\n",
        "    \n",
        "    keras.layers.Flatten(),\n",
        "    keras.layers.Dense(64, activation='relu'),\n",
        "    keras.layers.Dense(10, activation='softmax')  \n",
        "    ])\n",
        "\n",
        "cnn.compile(optimizer='SGD',\n",
        "              loss='categorical_crossentropy',\n",
        "              metrics=['accuracy'])\n",
        "\n",
        "cnn.fit(X_train_scaled, y_train_categorical, epochs=10)"
      ],
      "execution_count": null,
      "outputs": [
        {
          "output_type": "stream",
          "text": [
            "Epoch 1/10\n",
            "1563/1563 [==============================] - 55s 35ms/step - loss: 2.1604 - accuracy: 0.2050\n",
            "Epoch 2/10\n",
            "1563/1563 [==============================] - 55s 35ms/step - loss: 1.6833 - accuracy: 0.4020\n",
            "Epoch 3/10\n",
            "1563/1563 [==============================] - 55s 35ms/step - loss: 1.4692 - accuracy: 0.4742\n",
            "Epoch 4/10\n",
            "1563/1563 [==============================] - 55s 35ms/step - loss: 1.3548 - accuracy: 0.5180\n",
            "Epoch 5/10\n",
            "1563/1563 [==============================] - 56s 36ms/step - loss: 1.2712 - accuracy: 0.5498\n",
            "Epoch 6/10\n",
            "1563/1563 [==============================] - 55s 35ms/step - loss: 1.2004 - accuracy: 0.5746\n",
            "Epoch 7/10\n",
            "1563/1563 [==============================] - 56s 36ms/step - loss: 1.1439 - accuracy: 0.5996\n",
            "Epoch 8/10\n",
            "1563/1563 [==============================] - 58s 37ms/step - loss: 1.0844 - accuracy: 0.6227\n",
            "Epoch 9/10\n",
            "1563/1563 [==============================] - 57s 36ms/step - loss: 1.0366 - accuracy: 0.6381\n",
            "Epoch 10/10\n",
            "1563/1563 [==============================] - 57s 36ms/step - loss: 0.9992 - accuracy: 0.6506\n"
          ],
          "name": "stdout"
        },
        {
          "output_type": "execute_result",
          "data": {
            "text/plain": [
              "<tensorflow.python.keras.callbacks.History at 0x7fdb234cc7b8>"
            ]
          },
          "metadata": {
            "tags": []
          },
          "execution_count": 370
        }
      ]
    },
    {
      "cell_type": "code",
      "metadata": {
        "colab": {
          "base_uri": "https://localhost:8080/"
        },
        "id": "7UIGWuQZBakb",
        "outputId": "b5eeff2f-39b9-4b2b-faf7-5490e478c33d"
      },
      "source": [
        "cnn.evaluate(X_test_scaled,y_test_categorical)"
      ],
      "execution_count": null,
      "outputs": [
        {
          "output_type": "stream",
          "text": [
            "313/313 [==============================] - 4s 12ms/step - loss: 1.0825 - accuracy: 0.6236\n"
          ],
          "name": "stdout"
        },
        {
          "output_type": "execute_result",
          "data": {
            "text/plain": [
              "[1.0825433731079102, 0.6236000061035156]"
            ]
          },
          "metadata": {
            "tags": []
          },
          "execution_count": 375
        }
      ]
    },
    {
      "cell_type": "code",
      "metadata": {
        "colab": {
          "base_uri": "https://localhost:8080/"
        },
        "id": "7WQCqv-M-6jm",
        "outputId": "e193eb84-a489-4971-8e7c-82c4587dbb90"
      },
      "source": [
        "y_pred = cnn.predict(X_test_scaled)\n",
        "y_pred[:5]"
      ],
      "execution_count": null,
      "outputs": [
        {
          "output_type": "execute_result",
          "data": {
            "text/plain": [
              "array([[3.9497968e-03, 2.3103284e-04, 8.3153352e-02, 6.4285779e-01,\n",
              "        9.2355078e-03, 1.8353982e-01, 6.2085181e-02, 9.0362050e-04,\n",
              "        1.3866149e-02, 1.7783266e-04],\n",
              "       [2.0361351e-02, 4.3336999e-02, 8.8810433e-05, 3.2427793e-05,\n",
              "        2.9694425e-05, 1.2786519e-06, 6.7250126e-06, 1.1393805e-05,\n",
              "        9.3109030e-01, 5.0409921e-03],\n",
              "       [1.0232571e-01, 1.5074725e-01, 1.2510193e-03, 2.4455301e-03,\n",
              "        2.7250345e-03, 3.0829886e-04, 2.0413587e-04, 1.2563576e-03,\n",
              "        7.0366722e-01, 3.5069436e-02],\n",
              "       [6.6995639e-01, 1.2075764e-02, 1.4438118e-02, 8.8536221e-04,\n",
              "        9.4585149e-03, 7.1139933e-05, 3.6758746e-04, 3.0278618e-04,\n",
              "        2.9188660e-01, 5.5777677e-04],\n",
              "       [4.5776327e-05, 9.2912269e-05, 3.6076337e-02, 7.8989275e-02,\n",
              "        4.0701813e-01, 3.1588152e-02, 4.4383135e-01, 3.0572960e-04,\n",
              "        1.9601975e-03, 9.2134811e-05]], dtype=float32)"
            ]
          },
          "metadata": {
            "tags": []
          },
          "execution_count": 376
        }
      ]
    },
    {
      "cell_type": "code",
      "metadata": {
        "colab": {
          "base_uri": "https://localhost:8080/"
        },
        "id": "NyTWlsqh_HCx",
        "outputId": "7ff23103-7aa4-4591-bb4c-59c549decd6d"
      },
      "source": [
        "y_classes = [np.argmax(element) for element in y_pred]\n",
        "y_classes[:5]"
      ],
      "execution_count": null,
      "outputs": [
        {
          "output_type": "execute_result",
          "data": {
            "text/plain": [
              "[3, 8, 8, 0, 6]"
            ]
          },
          "metadata": {
            "tags": []
          },
          "execution_count": 377
        }
      ]
    },
    {
      "cell_type": "code",
      "metadata": {
        "colab": {
          "base_uri": "https://localhost:8080/"
        },
        "id": "H1gC5AAM_WvP",
        "outputId": "023d7295-15da-4490-b390-952651c151f3"
      },
      "source": [
        "y_test[:5]"
      ],
      "execution_count": null,
      "outputs": [
        {
          "output_type": "execute_result",
          "data": {
            "text/plain": [
              "array([3, 8, 8, 0, 6], dtype=uint8)"
            ]
          },
          "metadata": {
            "tags": []
          },
          "execution_count": 378
        }
      ]
    },
    {
      "cell_type": "code",
      "metadata": {
        "colab": {
          "base_uri": "https://localhost:8080/",
          "height": 173
        },
        "id": "QI5OmLfFCABw",
        "outputId": "76ff02b9-b627-4376-e94a-fbde1d5e988d"
      },
      "source": [
        "plot_sample(X_test, y_test,3)"
      ],
      "execution_count": null,
      "outputs": [
        {
          "output_type": "display_data",
          "data": {
            "image/png": "[encoded data removed]",
            "text/plain": [
              "<Figure size 1080x144 with 1 Axes>"
            ]
          },
          "metadata": {
            "tags": [],
            "needs_background": "light"
          }
        }
      ]
    },
    {
      "cell_type": "code",
      "metadata": {
        "colab": {
          "base_uri": "https://localhost:8080/",
          "height": 35
        },
        "id": "s299-n5CCNPm",
        "outputId": "68b6c34f-915d-4d12-9955-b440d3ded678"
      },
      "source": [
        "classes[y_classes[3]]"
      ],
      "execution_count": null,
      "outputs": [
        {
          "output_type": "execute_result",
          "data": {
            "application/vnd.google.colaboratory.intrinsic+json": {
              "type": "string"
            },
            "text/plain": [
              "'airplane'"
            ]
          },
          "metadata": {
            "tags": []
          },
          "execution_count": 380
        }
      ]
    },
    {
      "cell_type": "code",
      "metadata": {
        "id": "hadqoXaXCPv4"
      },
      "source": [
        ""
      ],
      "execution_count": null,
      "outputs": []
    }
  ]
}